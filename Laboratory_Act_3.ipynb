{
  "nbformat": 4,
  "nbformat_minor": 0,
  "metadata": {
    "colab": {
      "provenance": [],
      "authorship_tag": "ABX9TyP0m0zMhZnCI4Q8QxNug8CS",
      "include_colab_link": true
    },
    "kernelspec": {
      "name": "python3",
      "display_name": "Python 3"
    },
    "language_info": {
      "name": "python"
    }
  },
  "cells": [
    {
      "cell_type": "markdown",
      "metadata": {
        "id": "view-in-github",
        "colab_type": "text"
      },
      "source": [
        "<a href=\"https://colab.research.google.com/github/LarenzSandreiOperana/DSA-58010/blob/main/Laboratory_Act_3.ipynb\" target=\"_parent\"><img src=\"https://colab.research.google.com/assets/colab-badge.svg\" alt=\"Open In Colab\"/></a>"
      ]
    },
    {
      "cell_type": "code",
      "execution_count": null,
      "metadata": {
        "colab": {
          "base_uri": "https://localhost:8080/"
        },
        "id": "frAEhE_OhexR",
        "outputId": "87da9b12-abb2-4e15-8fd7-afae185169ed"
      },
      "outputs": [
        {
          "output_type": "stream",
          "name": "stdout",
          "text": [
            "Input string to be translated: Laboratory\n",
            "How much should the alphabet be shifted?: 1\n",
            "Mbcpsbupsz\n"
          ]
        }
      ],
      "source": [
        "def magicshifter(text, shift, alphabets):\n",
        "\n",
        "  def theshifter(alphabets):\n",
        "    return alphabets[shift:] + alphabets[:shift]\n",
        "\n",
        "  shifted_alphabets = tuple(map(theshifter, alphabets))\n",
        "  final_alphabet = ','.join(alphabets)\n",
        "  final_shifted_alphabet = ','.join(shifted_alphabets)\n",
        "  table = text.maketrans(final_alphabet, final_shifted_alphabet)\n",
        "  return text.translate(table)\n",
        "upperalphabet = \"ABCDEFGHIJKLMNOPQRSTUVWXYZ\"\n",
        "loweralphabet = \"abcdefghijklmnopqrstuvwxyz\"\n",
        "text = input(\"Input string to be translated: \")\n",
        "shift = int(input(\"How much should the alphabet be shifted?: \"))\n",
        "print(magicshifter(text,shift,[loweralphabet, upperalphabet]))"
      ]
    }
  ]
}
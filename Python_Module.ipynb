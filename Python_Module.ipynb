{
  "nbformat": 4,
  "nbformat_minor": 0,
  "metadata": {
    "colab": {
      "provenance": [],
      "collapsed_sections": [],
      "authorship_tag": "ABX9TyMVwm0XxdpXUaGq3OqvfH+R",
      "include_colab_link": true
    },
    "kernelspec": {
      "name": "python3",
      "display_name": "Python 3"
    },
    "language_info": {
      "name": "python"
    }
  },
  "cells": [
    {
      "cell_type": "markdown",
      "metadata": {
        "id": "view-in-github",
        "colab_type": "text"
      },
      "source": [
        "<a href=\"https://colab.research.google.com/github/LarenzSandreiOperana/DSA-58010/blob/main/Python_Module.ipynb\" target=\"_parent\"><img src=\"https://colab.research.google.com/assets/colab-badge.svg\" alt=\"Open In Colab\"/></a>"
      ]
    },
    {
      "cell_type": "markdown",
      "source": [
        "Example 1"
      ],
      "metadata": {
        "id": "05UwlHjW8mx-"
      }
    },
    {
      "cell_type": "code",
      "source": [
        "import array\n",
        "array.typecodes\n",
        "\n",
        "A = array.array('i', [1,2,3,4,5,6])\n",
        "B = array.array('f', [1.5,2.5,3.5,4.5,5.5,6.5])\n",
        "print(A.typecode)\n",
        "print(B.typecode)"
      ],
      "metadata": {
        "colab": {
          "base_uri": "https://localhost:8080/"
        },
        "id": "eqmorYrm8qVy",
        "outputId": "bff47102-4417-4689-923c-97cad152c38a"
      },
      "execution_count": 11,
      "outputs": [
        {
          "output_type": "stream",
          "name": "stdout",
          "text": [
            "i\n",
            "f\n"
          ]
        }
      ]
    },
    {
      "cell_type": "markdown",
      "source": [
        "Example 2"
      ],
      "metadata": {
        "id": "XAHeBdt48rak"
      }
    },
    {
      "cell_type": "code",
      "source": [
        "A = array.array('f',[1,2,3,4,5,6])\n",
        "print(A)"
      ],
      "metadata": {
        "colab": {
          "base_uri": "https://localhost:8080/"
        },
        "id": "s74H1dfE8s6K",
        "outputId": "2c4c0b44-6c9a-431d-84ed-63740a7f5c76"
      },
      "execution_count": 12,
      "outputs": [
        {
          "output_type": "stream",
          "name": "stdout",
          "text": [
            "array('f', [1.0, 2.0, 3.0, 4.0, 5.0, 6.0])\n"
          ]
        }
      ]
    },
    {
      "cell_type": "markdown",
      "source": [
        "Example 3"
      ],
      "metadata": {
        "id": "efC_ajGkAKaw"
      }
    },
    {
      "cell_type": "code",
      "source": [
        "import array\n",
        "a = array.array('i', [4,5,6,7])\n",
        "b = array.array('i',[1,2,3])\n",
        "a.insert(1,2)\n",
        "print(a)\n",
        "a.insert(-1,0)\n",
        "print(a)\n",
        "a.insert(6,8)\n",
        "print(a)\n",
        "b[0] = 5\n",
        "b[1] = 4\n",
        "b[2] = 3\n",
        "print(b)"
      ],
      "metadata": {
        "colab": {
          "base_uri": "https://localhost:8080/"
        },
        "id": "EjcT4o-HALpo",
        "outputId": "80660036-9154-4913-f7a5-4e0c052ec4b1"
      },
      "execution_count": 17,
      "outputs": [
        {
          "output_type": "stream",
          "name": "stdout",
          "text": [
            "array('i', [4, 2, 5, 6, 7])\n",
            "array('i', [4, 2, 5, 6, 0, 7])\n",
            "array('i', [4, 2, 5, 6, 0, 7, 8])\n",
            "array('i', [5, 4, 3])\n"
          ]
        }
      ]
    },
    {
      "cell_type": "markdown",
      "source": [
        "**Linked List**"
      ],
      "metadata": {
        "id": "5GdGhzarNxT-"
      }
    },
    {
      "cell_type": "code",
      "source": [
        "#function that creates node object\n",
        "\n",
        "class Node:\n",
        "  def __init__(self,data):\n",
        "    self.data = data    # assign data\n",
        "    self.next = None    # initialize as null\n",
        "\n",
        "#function that creates Linked-list object\n",
        "\n",
        "class LinkedList:\n",
        "  def __init(self):\n",
        "    self.head = None   #initialize head as null\n",
        "\n",
        "  def printList(self):\n",
        "    temp = self.head\n",
        "    while(temp!=None):\n",
        "      print(temp.data)\n",
        "      temp = temp.next\n",
        "\n",
        "\n",
        "list = LinkedList()\n",
        "list.head = Node(1)\n",
        "second = Node(2)\n",
        "third = Node(3)\n",
        "fourth = Node(4)\n",
        "\n",
        "list.head.next=second\n",
        "second.next=third\n",
        "third.next=fourth\n",
        "\n",
        "list.printList()"
      ],
      "metadata": {
        "colab": {
          "base_uri": "https://localhost:8080/"
        },
        "id": "AU9gMWRNITIp",
        "outputId": "a4a1303e-a488-4c19-97c4-dedb98649701"
      },
      "execution_count": 23,
      "outputs": [
        {
          "output_type": "stream",
          "name": "stdout",
          "text": [
            "1\n",
            "2\n",
            "3\n",
            "4\n"
          ]
        }
      ]
    }
  ]
}
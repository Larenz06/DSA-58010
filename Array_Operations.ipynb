{
  "nbformat": 4,
  "nbformat_minor": 0,
  "metadata": {
    "colab": {
      "name": "Array Operations.ipynb",
      "provenance": [],
      "collapsed_sections": [],
      "authorship_tag": "ABX9TyNjZx7QTAO74D+5SHE9HcRj",
      "include_colab_link": true
    },
    "kernelspec": {
      "name": "python3",
      "display_name": "Python 3"
    },
    "language_info": {
      "name": "python"
    }
  },
  "cells": [
    {
      "cell_type": "markdown",
      "metadata": {
        "id": "view-in-github",
        "colab_type": "text"
      },
      "source": [
        "<a href=\"https://colab.research.google.com/github/LarenzSandreiOperana/DSA-58010/blob/main/Array_Operations.ipynb\" target=\"_parent\"><img src=\"https://colab.research.google.com/assets/colab-badge.svg\" alt=\"Open In Colab\"/></a>"
      ]
    },
    {
      "cell_type": "code",
      "source": [
        "num = [1,2,3] #3x3 matrix\n",
        "print(num)"
      ],
      "metadata": {
        "colab": {
          "base_uri": "https://localhost:8080/"
        },
        "id": "p24chtEPG-wh",
        "outputId": "1d9616e8-0984-4acf-899e-f759ffe92b67"
      },
      "execution_count": 10,
      "outputs": [
        {
          "output_type": "stream",
          "name": "stdout",
          "text": [
            "[1, 2, 3]\n"
          ]
        }
      ]
    },
    {
      "cell_type": "code",
      "execution_count": 1,
      "metadata": {
        "colab": {
          "base_uri": "https://localhost:8080/"
        },
        "id": "les-mf0WFXN1",
        "outputId": "8d4837f0-edf3-46de-e6f4-d095124679af"
      },
      "outputs": [
        {
          "output_type": "stream",
          "name": "stdout",
          "text": [
            "dog\n",
            "cat\n",
            "fish\n"
          ]
        }
      ],
      "source": [
        "#Create an array of elements pertaining to animals\n",
        "\n",
        "animals = [\"dog\",\"cat\",\"fish\"]\n",
        "for x in animals:\n",
        "  print(x)"
      ]
    },
    {
      "cell_type": "code",
      "source": [
        "animals = [\"dog\",\"cat\",\"fish\"]\n",
        "x = animals[0]\n",
        "x2 = animals[1]\n",
        "print(x)\n",
        "print(x2)"
      ],
      "metadata": {
        "colab": {
          "base_uri": "https://localhost:8080/"
        },
        "id": "uCxdFYwIGB9S",
        "outputId": "686a5c56-6349-4905-8cc1-8cf1cf66e41b"
      },
      "execution_count": 2,
      "outputs": [
        {
          "output_type": "stream",
          "name": "stdout",
          "text": [
            "dog\n",
            "cat\n"
          ]
        }
      ]
    },
    {
      "cell_type": "code",
      "source": [
        "#Inserting Array Elements\n",
        "\n",
        "animals = [\"dog\",\"cat\",\"fish\"]\n",
        "animals.append('monkey')\n",
        "print(animals)"
      ],
      "metadata": {
        "colab": {
          "base_uri": "https://localhost:8080/"
        },
        "id": "8nYsgxHbGF58",
        "outputId": "1ab48032-06f7-4b2c-cea2-09c297635107"
      },
      "execution_count": 3,
      "outputs": [
        {
          "output_type": "stream",
          "name": "stdout",
          "text": [
            "['dog', 'cat', 'fish', 'monkey']\n"
          ]
        }
      ]
    },
    {
      "cell_type": "code",
      "source": [
        "#Modifying Array Elements\n",
        "animals = [\"dog\",\"cat\",\"fish\"]\n",
        "animals[2] = \"monkey\"\n",
        "print(animals)"
      ],
      "metadata": {
        "colab": {
          "base_uri": "https://localhost:8080/"
        },
        "id": "ASJy0q4cGHm7",
        "outputId": "3768b2c2-8be9-46af-bfb9-57c2dc68a972"
      },
      "execution_count": 4,
      "outputs": [
        {
          "output_type": "stream",
          "name": "stdout",
          "text": [
            "['dog', 'cat', 'monkey']\n"
          ]
        }
      ]
    },
    {
      "cell_type": "code",
      "source": [
        "#Removing Array Elements\n",
        "\n",
        "animals = [\"dog\",\"cat\",\"fish\"]\n",
        "animals.pop(2)\n",
        "animals.pop(1)\n",
        "print(animals)"
      ],
      "metadata": {
        "colab": {
          "base_uri": "https://localhost:8080/"
        },
        "id": "Wab8T7sCGI5R",
        "outputId": "ff090cb3-b2c5-460a-b131-8eb0edbaf4ae"
      },
      "execution_count": 5,
      "outputs": [
        {
          "output_type": "stream",
          "name": "stdout",
          "text": [
            "['dog']\n"
          ]
        }
      ]
    },
    {
      "cell_type": "code",
      "source": [
        "#Looping Array Elements\n",
        "animals = [\"dog\",'cat','fish']\n",
        "for x in animals:\n",
        "  print(x)\n",
        "  if x=='cat':\n",
        "    break"
      ],
      "metadata": {
        "colab": {
          "base_uri": "https://localhost:8080/"
        },
        "id": "0uTxHdwuGKWc",
        "outputId": "abf770ee-b99c-457f-9fdc-e82ee176300b"
      },
      "execution_count": 6,
      "outputs": [
        {
          "output_type": "stream",
          "name": "stdout",
          "text": [
            "dog\n",
            "cat\n"
          ]
        }
      ]
    },
    {
      "cell_type": "code",
      "source": [
        "#lenght of the array\n",
        "animals = [\"dog\",\"cat\",\"fish\"]\n",
        "x=len(animals)\n",
        "print(animals)"
      ],
      "metadata": {
        "colab": {
          "base_uri": "https://localhost:8080/"
        },
        "id": "Uz3jot76GLit",
        "outputId": "b077c97c-641f-4016-a6d9-67bcabc29461"
      },
      "execution_count": 9,
      "outputs": [
        {
          "output_type": "stream",
          "name": "stdout",
          "text": [
            "['dog', 'cat', 'fish']\n"
          ]
        }
      ]
    },
    {
      "cell_type": "code",
      "source": [
        "import numpy as np\n",
        "number = np.array([[1,2],[3,4]])   #2x2 matrix\n",
        "print(number)"
      ],
      "metadata": {
        "colab": {
          "base_uri": "https://localhost:8080/"
        },
        "id": "LXMvtLqaGM54",
        "outputId": "ba089cb4-d047-4a7e-8c6f-50ed79303a6f"
      },
      "execution_count": 8,
      "outputs": [
        {
          "output_type": "stream",
          "name": "stdout",
          "text": [
            "[[1 2]\n",
            " [3 4]]\n"
          ]
        }
      ]
    }
  ]
}